{
 "cells": [
  {
   "cell_type": "code",
   "execution_count": 1,
   "metadata": {},
   "outputs": [],
   "source": [
    "from prepare_data import *"
   ]
  },
  {
   "cell_type": "code",
   "execution_count": 2,
   "metadata": {},
   "outputs": [],
   "source": [
    "dp = DataPreparator(path = \"data/clean\")"
   ]
  },
  {
   "cell_type": "code",
   "execution_count": 3,
   "metadata": {},
   "outputs": [
    {
     "ename": "type",
     "evalue": "[Errno 2] No such file or directory: 'mle-framework/data/clean'",
     "output_type": "error",
     "traceback": [
      "\u001b[0;31m---------------------------------------------------------------------------\u001b[0m",
      "\u001b[0;31mFileNotFoundError\u001b[0m                         Traceback (most recent call last)",
      "Cell \u001b[0;32mIn[3], line 1\u001b[0m\n\u001b[0;32m----> 1\u001b[0m df_1, df_2 \u001b[39m=\u001b[39m dp\u001b[39m.\u001b[39;49mget_data()\n",
      "File \u001b[0;32m~/Documents/workspace/BS/productivizacion/MLE_FW/mle-framework/prepare_data.py:159\u001b[0m, in \u001b[0;36mDataPreparator.get_data\u001b[0;34m(self)\u001b[0m\n\u001b[1;32m    154\u001b[0m \u001b[39mdef\u001b[39;00m \u001b[39mget_data\u001b[39m(\u001b[39mself\u001b[39m)\u001b[39m-\u001b[39m\u001b[39m>\u001b[39mTuple[pd\u001b[39m.\u001b[39mDataFrame, pd\u001b[39m.\u001b[39mDataFrame]:\n\u001b[1;32m    155\u001b[0m \u001b[39m    \u001b[39m\u001b[39m\"\"\"\u001b[39;00m\n\u001b[1;32m    156\u001b[0m \u001b[39m    Pipeline para obtener los datos y prepararlos\u001b[39;00m\n\u001b[1;32m    157\u001b[0m \u001b[39m    \"\"\"\u001b[39;00m\n\u001b[0;32m--> 159\u001b[0m     data \u001b[39m=\u001b[39m \u001b[39mself\u001b[39;49m\u001b[39m.\u001b[39;49mload_data()\n\u001b[1;32m    161\u001b[0m     df_1, df_2 \u001b[39m=\u001b[39m \u001b[39mself\u001b[39m\u001b[39m.\u001b[39mseparate_by_area(data)\n\u001b[1;32m    163\u001b[0m     df_1 \u001b[39m=\u001b[39m \u001b[39mself\u001b[39m\u001b[39m.\u001b[39mcreate_features(df_1)\n",
      "File \u001b[0;32m~/Documents/workspace/BS/productivizacion/MLE_FW/mle-framework/prepare_data.py:68\u001b[0m, in \u001b[0;36mDataPreparator.load_data\u001b[0;34m(self)\u001b[0m\n\u001b[1;32m     65\u001b[0m         df \u001b[39m=\u001b[39m pd\u001b[39m.\u001b[39mread_excel(\u001b[39mself\u001b[39m\u001b[39m.\u001b[39mpath)\n\u001b[1;32m     67\u001b[0m \u001b[39melse\u001b[39;00m:\n\u001b[0;32m---> 68\u001b[0m     newest_file \u001b[39m=\u001b[39m \u001b[39mself\u001b[39;49m\u001b[39m.\u001b[39;49mget_last_modified_file()\n\u001b[1;32m     69\u001b[0m     suffix \u001b[39m=\u001b[39m newest_file\u001b[39m.\u001b[39msplit(\u001b[39m\"\u001b[39m\u001b[39m.\u001b[39m\u001b[39m\"\u001b[39m)[\u001b[39m-\u001b[39m\u001b[39m1\u001b[39m]\n\u001b[1;32m     71\u001b[0m     \u001b[39mif\u001b[39;00m suffix \u001b[39m==\u001b[39m \u001b[39m\"\u001b[39m\u001b[39mcsv\u001b[39m\u001b[39m\"\u001b[39m:\n",
      "File \u001b[0;32m~/Documents/workspace/BS/productivizacion/MLE_FW/mle-framework/prepare_data.py:38\u001b[0m, in \u001b[0;36mDataPreparator.get_last_modified_file\u001b[0;34m(self)\u001b[0m\n\u001b[1;32m     31\u001b[0m \u001b[39mdef\u001b[39;00m \u001b[39mget_last_modified_file\u001b[39m(\u001b[39mself\u001b[39m):\n\u001b[1;32m     32\u001b[0m \u001b[39m    \u001b[39m\u001b[39m\"\"\"\u001b[39;00m\n\u001b[1;32m     33\u001b[0m \u001b[39m    Ordena los archivos según su fecha de modificación en un diccionario\u001b[39;00m\n\u001b[1;32m     34\u001b[0m \u001b[39m    para obtener el último\u001b[39;00m\n\u001b[1;32m     35\u001b[0m \u001b[39m    \u001b[39;00m\n\u001b[1;32m     36\u001b[0m \u001b[39m    Retorna: directorio del archivo modificado en último lugar\u001b[39;00m\n\u001b[1;32m     37\u001b[0m \u001b[39m    \"\"\"\u001b[39;00m\n\u001b[0;32m---> 38\u001b[0m     files \u001b[39m=\u001b[39m [os\u001b[39m.\u001b[39mpath\u001b[39m.\u001b[39mjoin(\u001b[39mself\u001b[39m\u001b[39m.\u001b[39mpath, f) \u001b[39mfor\u001b[39;00m f \u001b[39min\u001b[39;00m os\u001b[39m.\u001b[39;49mlistdir(\u001b[39mself\u001b[39;49m\u001b[39m.\u001b[39;49mpath)]\n\u001b[1;32m     39\u001b[0m     \u001b[39m# file_dict = {os.path.getmtime(f):f for f in files}\u001b[39;00m\n\u001b[1;32m     40\u001b[0m     file_dict \u001b[39m=\u001b[39m {os\u001b[39m.\u001b[39mpath\u001b[39m.\u001b[39mgetmtime(f)\u001b[39m+\u001b[39mi:f \u001b[39mfor\u001b[39;00m f,i \u001b[39min\u001b[39;00m \u001b[39mzip\u001b[39m(files, \u001b[39mrange\u001b[39m(\u001b[39mlen\u001b[39m(files)))}\n",
      "\u001b[0;31mFileNotFoundError\u001b[0m: [Errno 2] No such file or directory: 'mle-framework/data/clean'"
     ]
    }
   ],
   "source": [
    "df_1, df_2 = dp.get_data()"
   ]
  },
  {
   "cell_type": "code",
   "execution_count": null,
   "metadata": {},
   "outputs": [],
   "source": []
  }
 ],
 "metadata": {
  "kernelspec": {
   "display_name": "prod",
   "language": "python",
   "name": "python3"
  },
  "language_info": {
   "codemirror_mode": {
    "name": "ipython",
    "version": 3
   },
   "file_extension": ".py",
   "mimetype": "text/x-python",
   "name": "python",
   "nbconvert_exporter": "python",
   "pygments_lexer": "ipython3",
   "version": "3.11.3"
  },
  "orig_nbformat": 4
 },
 "nbformat": 4,
 "nbformat_minor": 2
}
